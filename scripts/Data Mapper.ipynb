{
 "cells": [
  {
   "cell_type": "code",
   "execution_count": 18,
   "metadata": {},
   "outputs": [],
   "source": [
    "filename = '../../amazon-meta.txt'\n",
    "#filename = '../Amazon-Co-Purchasing-Pattern/Dataset/sample-meta.txt'\n",
    "tsv_file_name = 'fpm-final.tsv'\n",
    "\n",
    "count = 0\n",
    "\n",
    "tid = None\n",
    "\n",
    "file = open(filename, 'r', encoding=\"utf8\")\n",
    "tsv_file = open(tsv_file_name, 'w+', encoding=\"utf8\")\n",
    "new_line = ''\n",
    "\n",
    "for line in file:\n",
    "    if(count < 7):\n",
    "        count = count + 1\n",
    "        continue\n",
    "    if(line == '\\n'):\n",
    "        continue\n",
    "    \n",
    "    label = line.partition(':')[0]\n",
    "\n",
    "    if(label == 'Id'):\n",
    "        line = line.replace(' ', '')\n",
    "        line = line.split(':')\n",
    "        tid = line[1].split('\\n')\n",
    "        tid = tid[0]\n",
    "        #print(\"TID: \" + str(tid) + \" \")\n",
    "        new_line = new_line + tid + '\\t'\n",
    "    \n",
    "    if('discontinued product' in line):\n",
    "        new_line = ''\n",
    "        continue\n",
    "    \n",
    "    if(label == 'ASIN'):\n",
    "        line = line.replace(' ', '')\n",
    "        line = line.split(':')\n",
    "        asin = line[1].split('\\n')\n",
    "        asin = asin[0]\n",
    "        #print(\"ASIN: \" + str(asin))\n",
    "        new_line = new_line + asin + '\\t'\n",
    "        \n",
    "    if(label == '  group'):\n",
    "        line = line.replace(' ', '')\n",
    "        line = line.split(':')\n",
    "        group = line[1].split('\\n')\n",
    "        group = group[0]\n",
    "        new_line = new_line + group + '\\t'\n",
    "\n",
    "    if(label == '  similar'):\n",
    "        line = line.split(':')\n",
    "        line = line[1].replace('  ', ',')\n",
    "        line = line.split('\\n')\n",
    "        line = line[0].replace(' ', '')\n",
    "        line = line.split(',')\n",
    "        for i in range(0, len(line)):\n",
    "            if(i == 0):\n",
    "                continue\n",
    "            new_line = new_line  + line[i] + ','\n",
    "        tsv_file.write(new_line[:-1] + '\\n')\n",
    "        new_line = ''"
   ]
  },
  {
   "cell_type": "code",
   "execution_count": 19,
   "metadata": {},
   "outputs": [],
   "source": [
    "tsv_file.close()"
   ]
  },
  {
   "cell_type": "code",
   "execution_count": null,
   "metadata": {},
   "outputs": [],
   "source": []
  }
 ],
 "metadata": {
  "kernelspec": {
   "display_name": "Python 3",
   "language": "python",
   "name": "python3"
  },
  "language_info": {
   "codemirror_mode": {
    "name": "ipython",
    "version": 3
   },
   "file_extension": ".py",
   "mimetype": "text/x-python",
   "name": "python",
   "nbconvert_exporter": "python",
   "pygments_lexer": "ipython3",
   "version": "3.7.1"
  }
 },
 "nbformat": 4,
 "nbformat_minor": 2
}
