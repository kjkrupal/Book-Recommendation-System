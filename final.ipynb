{
 "cells": [
  {
   "cell_type": "code",
   "execution_count": 1,
   "metadata": {
    "collapsed": true
   },
   "outputs": [],
   "source": [
    "import graphlab as gl\n",
    "import pandas as pd\n",
    "import numpy as np\n",
    "from graphlab import SFrame, SGraph"
   ]
  },
  {
   "cell_type": "code",
   "execution_count": 2,
   "metadata": {
    "collapsed": true
   },
   "outputs": [],
   "source": [
    "transactions = pd.read_csv('tidValues.csv')"
   ]
  },
  {
   "cell_type": "code",
   "execution_count": 3,
   "metadata": {
    "collapsed": false
   },
   "outputs": [
    {
     "name": "stderr",
     "output_type": "stream",
     "text": [
      "[INFO] graphlab.cython.cy_server: GraphLab Create v2.1 started. Logging: /tmp/graphlab_server_1550960610.log\n"
     ]
    },
    {
     "name": "stdout",
     "output_type": "stream",
     "text": [
      "This non-commercial license of GraphLab Create for academic use is assigned to krupal.jadhav@wsu.edu and will expire on November 06, 2019.\n"
     ]
    }
   ],
   "source": [
    "transactions = SFrame(transactions)"
   ]
  },
  {
   "cell_type": "code",
   "execution_count": 30,
   "metadata": {
    "collapsed": false
   },
   "outputs": [
    {
     "data": {
      "text/html": [
       "<div style=\"max-height:1000px;max-width:1500px;overflow:auto;\"><table frame=\"box\" rules=\"cols\">\n",
       "    <tr>\n",
       "        <th style=\"padding-left: 1em; padding-right: 1em; text-align: center\">tid</th>\n",
       "        <th style=\"padding-left: 1em; padding-right: 1em; text-align: center\">asin</th>\n",
       "    </tr>\n",
       "    <tr>\n",
       "        <td style=\"padding-left: 1em; padding-right: 1em; text-align: center; vertical-align: top\">1</td>\n",
       "        <td style=\"padding-left: 1em; padding-right: 1em; text-align: center; vertical-align: top\">0827229534</td>\n",
       "    </tr>\n",
       "    <tr>\n",
       "        <td style=\"padding-left: 1em; padding-right: 1em; text-align: center; vertical-align: top\">1</td>\n",
       "        <td style=\"padding-left: 1em; padding-right: 1em; text-align: center; vertical-align: top\">0804215715</td>\n",
       "    </tr>\n",
       "    <tr>\n",
       "        <td style=\"padding-left: 1em; padding-right: 1em; text-align: center; vertical-align: top\">1</td>\n",
       "        <td style=\"padding-left: 1em; padding-right: 1em; text-align: center; vertical-align: top\">156101074X</td>\n",
       "    </tr>\n",
       "    <tr>\n",
       "        <td style=\"padding-left: 1em; padding-right: 1em; text-align: center; vertical-align: top\">1</td>\n",
       "        <td style=\"padding-left: 1em; padding-right: 1em; text-align: center; vertical-align: top\">0687023955</td>\n",
       "    </tr>\n",
       "    <tr>\n",
       "        <td style=\"padding-left: 1em; padding-right: 1em; text-align: center; vertical-align: top\">1</td>\n",
       "        <td style=\"padding-left: 1em; padding-right: 1em; text-align: center; vertical-align: top\">0687074231</td>\n",
       "    </tr>\n",
       "    <tr>\n",
       "        <td style=\"padding-left: 1em; padding-right: 1em; text-align: center; vertical-align: top\">1</td>\n",
       "        <td style=\"padding-left: 1em; padding-right: 1em; text-align: center; vertical-align: top\">082721619X</td>\n",
       "    </tr>\n",
       "    <tr>\n",
       "        <td style=\"padding-left: 1em; padding-right: 1em; text-align: center; vertical-align: top\">2</td>\n",
       "        <td style=\"padding-left: 1em; padding-right: 1em; text-align: center; vertical-align: top\">0738700797</td>\n",
       "    </tr>\n",
       "    <tr>\n",
       "        <td style=\"padding-left: 1em; padding-right: 1em; text-align: center; vertical-align: top\">2</td>\n",
       "        <td style=\"padding-left: 1em; padding-right: 1em; text-align: center; vertical-align: top\">0738700827</td>\n",
       "    </tr>\n",
       "    <tr>\n",
       "        <td style=\"padding-left: 1em; padding-right: 1em; text-align: center; vertical-align: top\">2</td>\n",
       "        <td style=\"padding-left: 1em; padding-right: 1em; text-align: center; vertical-align: top\">1567184960</td>\n",
       "    </tr>\n",
       "    <tr>\n",
       "        <td style=\"padding-left: 1em; padding-right: 1em; text-align: center; vertical-align: top\">2</td>\n",
       "        <td style=\"padding-left: 1em; padding-right: 1em; text-align: center; vertical-align: top\">1567182836</td>\n",
       "    </tr>\n",
       "</table>\n",
       "[1309568 rows x 2 columns]<br/>Note: Only the head of the SFrame is printed.<br/>You can use print_rows(num_rows=m, num_columns=n) to print more rows and columns.\n",
       "</div>"
      ],
      "text/plain": [
       "Columns:\n",
       "\ttid\tint\n",
       "\tasin\tstr\n",
       "\n",
       "Rows: 1309568\n",
       "\n",
       "Data:\n",
       "+-----+------------+\n",
       "| tid |    asin    |\n",
       "+-----+------------+\n",
       "|  1  | 0827229534 |\n",
       "|  1  | 0804215715 |\n",
       "|  1  | 156101074X |\n",
       "|  1  | 0687023955 |\n",
       "|  1  | 0687074231 |\n",
       "|  1  | 082721619X |\n",
       "|  2  | 0738700797 |\n",
       "|  2  | 0738700827 |\n",
       "|  2  | 1567184960 |\n",
       "|  2  | 1567182836 |\n",
       "+-----+------------+\n",
       "[1309568 rows x 2 columns]\n",
       "Note: Only the head of the SFrame is printed.\n",
       "You can use print_rows(num_rows=m, num_columns=n) to print more rows and columns."
      ]
     },
     "execution_count": 30,
     "metadata": {},
     "output_type": "execute_result"
    }
   ],
   "source": [
    "transactions"
   ]
  },
  {
   "cell_type": "code",
   "execution_count": 5,
   "metadata": {
    "collapsed": false
   },
   "outputs": [],
   "source": [
    "asins_df = transactions.select_columns(['asin']).to_dataframe()\n",
    "unique_asins = asins_df.asin.unique()"
   ]
  },
  {
   "cell_type": "code",
   "execution_count": 6,
   "metadata": {
    "collapsed": false
   },
   "outputs": [],
   "source": [
    "#Write to Asins CSV\n",
    "pd.DataFrame(unique_asins, columns=['asin']).to_csv('Asins.csv', index=False)"
   ]
  },
  {
   "cell_type": "code",
   "execution_count": null,
   "metadata": {
    "collapsed": false
   },
   "outputs": [],
   "source": [
    "model = gl.frequent_pattern_mining.create(transactions, 'asin', features=['tid'], min_length=4, max_patterns=500)"
   ]
  },
  {
   "cell_type": "code",
   "execution_count": 8,
   "metadata": {
    "collapsed": false
   },
   "outputs": [],
   "source": [
    "model.get_frequent_patterns().export_csv('frequent_patterns.csv', '\\t')"
   ]
  },
  {
   "cell_type": "code",
   "execution_count": 9,
   "metadata": {
    "collapsed": true
   },
   "outputs": [],
   "source": [
    "model.save('fpm_model')"
   ]
  },
  {
   "cell_type": "code",
   "execution_count": 10,
   "metadata": {
    "collapsed": false
   },
   "outputs": [],
   "source": [
    "def getMainAsin(pred_table_df):\n",
    "    flattened_prefix = [val for sublist in pred_table_df.prefix for val in sublist]\n",
    "    unique_val_prefix = list(set(list(flattened_prefix)))\n",
    "    unique_val_prefix = \"\".join(unique_val_prefix)\n",
    "    return unique_val_prefix"
   ]
  },
  {
   "cell_type": "code",
   "execution_count": 129,
   "metadata": {
    "collapsed": true
   },
   "outputs": [],
   "source": [
    "def getPredictionsConfidences(pred_table_df):\n",
    "    flattened_predictions = [val for sublist in pred_table_df.prediction for val in sublist]\n",
    "    unique_val_predictions  = list(set(list(flattened_predictions)))\n",
    "    unique_val_predictions = \",\".join(unique_val_predictions)\n",
    "    \n",
    "    confidences = []\n",
    "    predictions = []\n",
    "    prediction_confidence_map = zip(pred_table_df.prediction, pred_table_df.confidence)\n",
    "    for item in list((unique_val_predictions).split(',')):\n",
    "        for i in range(len(prediction_confidence_map)):\n",
    "            if (item in ','.join(prediction_confidence_map[i][0])) and (item not in predictions):\n",
    "                predictions.append(item)\n",
    "                confidences.append(round(prediction_confidence_map[i][1],2))\n",
    "                \n",
    "    return ','.join(predictions), ','.join(str(a) for a in confidences)"
   ]
  },
  {
   "cell_type": "code",
   "execution_count": 256,
   "metadata": {
    "collapsed": false,
    "scrolled": false
   },
   "outputs": [
    {
     "ename": "RuntimeError",
     "evalue": "Runtime Exception. Canceled by user",
     "output_type": "error",
     "traceback": [
      "\u001b[0;31m---------------------------------------------------------------------------\u001b[0m",
      "\u001b[0;31mRuntimeError\u001b[0m                              Traceback (most recent call last)",
      "\u001b[0;32m<ipython-input-256-331769571c5a>\u001b[0m in \u001b[0;36m<module>\u001b[0;34m()\u001b[0m\n\u001b[1;32m      7\u001b[0m     \u001b[0;32mprint\u001b[0m\u001b[0;34m(\u001b[0m\u001b[0;34m'recommend'\u001b[0m\u001b[0;34m+\u001b[0m\u001b[0mstr\u001b[0m\u001b[0;34m(\u001b[0m\u001b[0mcount\u001b[0m\u001b[0;34m)\u001b[0m\u001b[0;34m)\u001b[0m\u001b[0;34m\u001b[0m\u001b[0m\n\u001b[1;32m      8\u001b[0m     \u001b[0;32mfor\u001b[0m \u001b[0masin_value\u001b[0m \u001b[0;32min\u001b[0m \u001b[0munique_asins\u001b[0m\u001b[0;34m[\u001b[0m\u001b[0mi\u001b[0m\u001b[0;34m:\u001b[0m\u001b[0mj\u001b[0m\u001b[0;34m]\u001b[0m\u001b[0;34m:\u001b[0m\u001b[0;34m\u001b[0m\u001b[0m\n\u001b[0;32m----> 9\u001b[0;31m         \u001b[0mpred_table\u001b[0m \u001b[0;34m=\u001b[0m \u001b[0mmodel\u001b[0m\u001b[0;34m.\u001b[0m\u001b[0mpredict_topk\u001b[0m\u001b[0;34m(\u001b[0m\u001b[0mSFrame\u001b[0m\u001b[0;34m(\u001b[0m\u001b[0mpd\u001b[0m\u001b[0;34m.\u001b[0m\u001b[0mDataFrame\u001b[0m\u001b[0;34m(\u001b[0m\u001b[0;34m[\u001b[0m\u001b[0;34m[\u001b[0m\u001b[0;34m'null'\u001b[0m\u001b[0;34m,\u001b[0m \u001b[0masin_value\u001b[0m\u001b[0;34m]\u001b[0m\u001b[0;34m]\u001b[0m\u001b[0;34m,\u001b[0m \u001b[0mcolumns\u001b[0m \u001b[0;34m=\u001b[0m \u001b[0;34m[\u001b[0m\u001b[0;34m'tid'\u001b[0m\u001b[0;34m,\u001b[0m\u001b[0;34m'asin'\u001b[0m\u001b[0;34m]\u001b[0m\u001b[0;34m)\u001b[0m\u001b[0;34m)\u001b[0m\u001b[0;34m,\u001b[0m \u001b[0mk\u001b[0m \u001b[0;34m=\u001b[0m \u001b[0;36m5\u001b[0m\u001b[0;34m)\u001b[0m\u001b[0;34m\u001b[0m\u001b[0m\n\u001b[0m\u001b[1;32m     10\u001b[0m         \u001b[0mpred_table_df\u001b[0m \u001b[0;34m=\u001b[0m \u001b[0mpred_table\u001b[0m\u001b[0;34m.\u001b[0m\u001b[0mto_dataframe\u001b[0m\u001b[0;34m(\u001b[0m\u001b[0;34m)\u001b[0m\u001b[0;34m\u001b[0m\u001b[0m\n\u001b[1;32m     11\u001b[0m         \u001b[0masin\u001b[0m \u001b[0;34m=\u001b[0m \u001b[0mgetMainAsin\u001b[0m\u001b[0;34m(\u001b[0m\u001b[0mpred_table_df\u001b[0m\u001b[0;34m)\u001b[0m\u001b[0;34m\u001b[0m\u001b[0m\n",
      "\u001b[0;32m/anaconda3/envs/gl-env/lib/python2.7/site-packages/graphlab/toolkits/pattern_mining/frequent_pattern_mining.pyc\u001b[0m in \u001b[0;36mpredict_topk\u001b[0;34m(self, dataset, k)\u001b[0m\n\u001b[1;32m    659\u001b[0m         \u001b[0m_raise_error_if_not_sframe\u001b[0m\u001b[0;34m(\u001b[0m\u001b[0mdataset\u001b[0m\u001b[0;34m,\u001b[0m \u001b[0;34m\"dataset\"\u001b[0m\u001b[0;34m)\u001b[0m\u001b[0;34m\u001b[0m\u001b[0m\n\u001b[1;32m    660\u001b[0m         \u001b[0mscore_function\u001b[0m \u001b[0;34m=\u001b[0m \u001b[0;34m\"confidence\"\u001b[0m \u001b[0;31m# For now, we only support confidence\u001b[0m\u001b[0;34m\u001b[0m\u001b[0m\n\u001b[0;32m--> 661\u001b[0;31m         \u001b[0;32mreturn\u001b[0m \u001b[0mself\u001b[0m\u001b[0;34m.\u001b[0m\u001b[0m__proxy__\u001b[0m\u001b[0;34m.\u001b[0m\u001b[0mpredict_topk\u001b[0m\u001b[0;34m(\u001b[0m\u001b[0mdataset\u001b[0m\u001b[0;34m,\u001b[0m \u001b[0mscore_function\u001b[0m\u001b[0;34m,\u001b[0m \u001b[0mk\u001b[0m\u001b[0;34m)\u001b[0m\u001b[0;34m\u001b[0m\u001b[0m\n\u001b[0m\u001b[1;32m    662\u001b[0m \u001b[0;34m\u001b[0m\u001b[0m\n\u001b[1;32m    663\u001b[0m     \u001b[0;32mdef\u001b[0m \u001b[0mextract_features\u001b[0m\u001b[0;34m(\u001b[0m\u001b[0mself\u001b[0m\u001b[0;34m,\u001b[0m \u001b[0mdataset\u001b[0m\u001b[0;34m)\u001b[0m\u001b[0;34m:\u001b[0m\u001b[0;34m\u001b[0m\u001b[0m\n",
      "\u001b[0;32m/anaconda3/envs/gl-env/lib/python2.7/site-packages/graphlab/extensions.pyc\u001b[0m in \u001b[0;36m<lambda>\u001b[0;34m(*args, **kwargs)\u001b[0m\n\u001b[1;32m    291\u001b[0m         \u001b[0;32melif\u001b[0m \u001b[0mname\u001b[0m \u001b[0;32min\u001b[0m \u001b[0mself\u001b[0m\u001b[0;34m.\u001b[0m\u001b[0m_functions\u001b[0m\u001b[0;34m:\u001b[0m\u001b[0;34m\u001b[0m\u001b[0m\n\u001b[1;32m    292\u001b[0m             \u001b[0;31m# is it a function?\u001b[0m\u001b[0;34m\u001b[0m\u001b[0;34m\u001b[0m\u001b[0m\n\u001b[0;32m--> 293\u001b[0;31m             \u001b[0mret\u001b[0m \u001b[0;34m=\u001b[0m \u001b[0;32mlambda\u001b[0m \u001b[0;34m*\u001b[0m\u001b[0margs\u001b[0m\u001b[0;34m,\u001b[0m \u001b[0;34m**\u001b[0m\u001b[0mkwargs\u001b[0m\u001b[0;34m:\u001b[0m \u001b[0mself\u001b[0m\u001b[0;34m.\u001b[0m\u001b[0m__run_class_function\u001b[0m\u001b[0;34m(\u001b[0m\u001b[0mname\u001b[0m\u001b[0;34m,\u001b[0m \u001b[0margs\u001b[0m\u001b[0;34m,\u001b[0m \u001b[0mkwargs\u001b[0m\u001b[0;34m)\u001b[0m\u001b[0;34m\u001b[0m\u001b[0m\n\u001b[0m\u001b[1;32m    294\u001b[0m             \u001b[0mret\u001b[0m\u001b[0;34m.\u001b[0m\u001b[0m__doc__\u001b[0m \u001b[0;34m=\u001b[0m \u001b[0;34m\"Name: \"\u001b[0m \u001b[0;34m+\u001b[0m \u001b[0mname\u001b[0m \u001b[0;34m+\u001b[0m \u001b[0;34m\"\\nParameters: \"\u001b[0m \u001b[0;34m+\u001b[0m \u001b[0mstr\u001b[0m\u001b[0;34m(\u001b[0m\u001b[0mself\u001b[0m\u001b[0;34m.\u001b[0m\u001b[0m_functions\u001b[0m\u001b[0;34m[\u001b[0m\u001b[0mname\u001b[0m\u001b[0;34m]\u001b[0m\u001b[0;34m)\u001b[0m \u001b[0;34m+\u001b[0m \u001b[0;34m\"\\n\"\u001b[0m\u001b[0;34m\u001b[0m\u001b[0m\n\u001b[1;32m    295\u001b[0m             \u001b[0;32mtry\u001b[0m\u001b[0;34m:\u001b[0m\u001b[0;34m\u001b[0m\u001b[0m\n",
      "\u001b[0;32m/anaconda3/envs/gl-env/lib/python2.7/site-packages/graphlab/extensions.pyc\u001b[0m in \u001b[0;36m__run_class_function\u001b[0;34m(self, fnname, args, kwargs)\u001b[0m\n\u001b[1;32m    277\u001b[0m         \u001b[0;31m# unwrap it\u001b[0m\u001b[0;34m\u001b[0m\u001b[0;34m\u001b[0m\u001b[0m\n\u001b[1;32m    278\u001b[0m         \u001b[0margument_dict\u001b[0m\u001b[0;34m[\u001b[0m\u001b[0;34m'__function_name__'\u001b[0m\u001b[0;34m]\u001b[0m \u001b[0;34m=\u001b[0m \u001b[0mfnname\u001b[0m\u001b[0;34m\u001b[0m\u001b[0m\n\u001b[0;32m--> 279\u001b[0;31m         \u001b[0mret\u001b[0m \u001b[0;34m=\u001b[0m \u001b[0mself\u001b[0m\u001b[0;34m.\u001b[0m\u001b[0m_tkclass\u001b[0m\u001b[0;34m.\u001b[0m\u001b[0mget\u001b[0m\u001b[0;34m(\u001b[0m\u001b[0;34m'call_function'\u001b[0m\u001b[0;34m,\u001b[0m \u001b[0margument_dict\u001b[0m\u001b[0;34m)\u001b[0m\u001b[0;34m\u001b[0m\u001b[0m\n\u001b[0m\u001b[1;32m    280\u001b[0m         \u001b[0mret\u001b[0m \u001b[0;34m=\u001b[0m \u001b[0m_wrap_function_return\u001b[0m\u001b[0;34m(\u001b[0m\u001b[0mret\u001b[0m\u001b[0;34m)\u001b[0m\u001b[0;34m\u001b[0m\u001b[0m\n\u001b[1;32m    281\u001b[0m         \u001b[0;32mreturn\u001b[0m \u001b[0mret\u001b[0m\u001b[0;34m\u001b[0m\u001b[0m\n",
      "\u001b[0;32mgraphlab/cython/cy_model.pyx\u001b[0m in \u001b[0;36mgraphlab.cython.cy_model.UnityModel.get\u001b[0;34m()\u001b[0m\n",
      "\u001b[0;32mgraphlab/cython/cy_model.pyx\u001b[0m in \u001b[0;36mgraphlab.cython.cy_model.UnityModel.get\u001b[0;34m()\u001b[0m\n",
      "\u001b[0;31mRuntimeError\u001b[0m: Runtime Exception. Canceled by user"
     ]
    }
   ],
   "source": [
    "%%capture\n",
    "asins = []\n",
    "predictions = []\n",
    "confidences = []\n",
    "\n",
    "for i, j in zip(start, end):\n",
    "    count = count+1\n",
    "    print('recommend'+str(count))\n",
    "    for asin_value in unique_asins[i:j]:\n",
    "        pred_table = model.predict_topk(SFrame(pd.DataFrame([['null', asin_value]], columns = ['tid','asin'])), k = 5)\n",
    "        pred_table_df = pred_table.to_dataframe()\n",
    "        asin = getMainAsin(pred_table_df)\n",
    "        if asin:\n",
    "            pred, conf = getPredictionsConfidences(pred_table_df)\n",
    "            asins.append(asin)\n",
    "            predictions.append(pred)\n",
    "            confidences.append(conf)\n",
    "    data = zip(asins, predictions, confidences)\n",
    "    df = pd.DataFrame(data, columns=['asin', 'predictions', 'confidence'])\n",
    "    df.to_csv('sam_recommend'+str(count)+'.tsv', sep = '\\t', index=False)\n",
    "    asins = []\n",
    "    predictions = []\n",
    "    confidences = []"
   ]
  },
  {
   "cell_type": "code",
   "execution_count": 309,
   "metadata": {
    "collapsed": false
   },
   "outputs": [
    {
     "name": "stdout",
     "output_type": "stream",
     "text": [
      "[     0  10000  20000  30000  40000  50000  60000  70000  80000  90000\n",
      " 100000 110000 120000 130000 140000 150000 160000 170000 180000 190000\n",
      " 200000 210000 220000 230000 240000 250000 260000 270000 280000 290000\n",
      " 300000 310000 320000 330000 340000 350000 360000 370000 380000 390000]\n",
      "()\n",
      "[ 10000  20000  30000  40000  50000  60000  70000  80000  90000 100000\n",
      " 110000 120000 130000 140000 150000 160000 170000 180000 190000 200000\n",
      " 210000 220000 230000 240000 250000 260000 270000 280000 290000 300000\n",
      " 310000 320000 330000 340000 350000 360000 370000 380000 390000 393562]\n"
     ]
    }
   ],
   "source": [
    "print(np.asarray(start))\n",
    "print()\n",
    "print(np.asarray(end))"
   ]
  },
  {
   "cell_type": "code",
   "execution_count": null,
   "metadata": {
    "collapsed": false
   },
   "outputs": [],
   "source": [
    "%%capture\n",
    "asins = []\n",
    "predictions = []\n",
    "confidences = []\n",
    "count = 0\n",
    "\n",
    "for asin_value in unique_asins[50000:60000]:\n",
    "    pred_table = model.predict_topk(SFrame(pd.DataFrame([['null', asin_value]], columns = ['tid','asin'])), k = 5)\n",
    "    pred_table_df = pred_table.to_dataframe()\n",
    "    asin = getMainAsin(pred_table_df)\n",
    "    if asin:\n",
    "        pred, conf = getPredictionsConfidences(pred_table_df)\n",
    "        asins.append(asin)\n",
    "        predictions.append(pred)\n",
    "        confidences.append(conf)"
   ]
  },
  {
   "cell_type": "code",
   "execution_count": 322,
   "metadata": {
    "collapsed": false
   },
   "outputs": [],
   "source": [
    "f = open('output4.txt', 'w+')\n",
    "\n",
    "for a, p, c in zip(asins, predictions, confidences):\n",
    "    a = \"insert into recommendation (asin, prediction, confidence) \" + \"values ('\" + a + \"','\" + p + \"','\" + c +\"');\"\n",
    "    f.write(a)\n",
    "    f.write('\\n')\n",
    "f.close()"
   ]
  },
  {
   "cell_type": "code",
   "execution_count": null,
   "metadata": {
    "collapsed": false
   },
   "outputs": [],
   "source": []
  },
  {
   "cell_type": "code",
   "execution_count": null,
   "metadata": {
    "collapsed": false
   },
   "outputs": [],
   "source": [
    "np.asarray(end)"
   ]
  },
  {
   "cell_type": "code",
   "execution_count": 260,
   "metadata": {
    "collapsed": false
   },
   "outputs": [
    {
     "data": {
      "text/plain": [
       "'0.45,0.0,0.39,0.0,0.0'"
      ]
     },
     "execution_count": 260,
     "metadata": {},
     "output_type": "execute_result"
    }
   ],
   "source": [
    "data = zip(asins, predictions, confidences)\n",
    "df = pd.DataFrame(data, columns=['asin', 'predictions', 'confidence'])\n",
    "df"
   ]
  },
  {
   "cell_type": "code",
   "execution_count": 304,
   "metadata": {
    "collapsed": false
   },
   "outputs": [
    {
     "data": {
      "text/plain": [
       "12"
      ]
     },
     "execution_count": 304,
     "metadata": {},
     "output_type": "execute_result"
    }
   ],
   "source": [
    "len(df)"
   ]
  },
  {
   "cell_type": "code",
   "execution_count": 265,
   "metadata": {
    "collapsed": false
   },
   "outputs": [],
   "source": [
    "data = zip(asins, predictions, confidences)\n",
    "df = pd.DataFrame(data, columns=['asin', 'predictions', 'confidence'])\n",
    "df.to_csv('recommend'+str(count)+'.tsv', sep = '\\t', index=False)"
   ]
  },
  {
   "cell_type": "code",
   "execution_count": 152,
   "metadata": {
    "collapsed": false
   },
   "outputs": [
    {
     "data": {
      "text/plain": [
       "3561"
      ]
     },
     "execution_count": 152,
     "metadata": {},
     "output_type": "execute_result"
    }
   ],
   "source": [
    "len(unique_asins) - 390000"
   ]
  },
  {
   "cell_type": "code",
   "execution_count": 138,
   "metadata": {
    "collapsed": false
   },
   "outputs": [
    {
     "data": {
      "text/plain": [
       "93559"
      ]
     },
     "execution_count": 138,
     "metadata": {},
     "output_type": "execute_result"
    }
   ],
   "source": [
    "len(unique_asins[300001:-1])"
   ]
  },
  {
   "cell_type": "code",
   "execution_count": 227,
   "metadata": {
    "collapsed": false
   },
   "outputs": [],
   "source": [
    "index = range(10000, 400000, 10000)\n",
    "index.append(393562)"
   ]
  },
  {
   "cell_type": "code",
   "execution_count": 252,
   "metadata": {
    "collapsed": true
   },
   "outputs": [],
   "source": [
    "start = []\n",
    "end = []\n",
    "#start = [x+1 for x in start]"
   ]
  },
  {
   "cell_type": "code",
   "execution_count": 253,
   "metadata": {
    "collapsed": false
   },
   "outputs": [],
   "source": [
    "for i,j in zip(range(0, 400000, 10000), index):\n",
    "    start.append(i)\n",
    "    end.append(j)"
   ]
  },
  {
   "cell_type": "code",
   "execution_count": 254,
   "metadata": {
    "collapsed": false
   },
   "outputs": [
    {
     "data": {
      "text/plain": [
       "array([     0,  10000,  20000,  30000,  40000,  50000,  60000,  70000,\n",
       "        80000,  90000, 100000, 110000, 120000, 130000, 140000, 150000,\n",
       "       160000, 170000, 180000, 190000, 200000, 210000, 220000, 230000,\n",
       "       240000, 250000, 260000, 270000, 280000, 290000, 300000, 310000,\n",
       "       320000, 330000, 340000, 350000, 360000, 370000, 380000, 390000])"
      ]
     },
     "execution_count": 254,
     "metadata": {},
     "output_type": "execute_result"
    }
   ],
   "source": [
    "#start[0] = start[0]-1\n"
   ]
  },
  {
   "cell_type": "code",
   "execution_count": 255,
   "metadata": {
    "collapsed": false
   },
   "outputs": [
    {
     "data": {
      "text/plain": [
       "array([ 10000,  20000,  30000,  40000,  50000,  60000,  70000,  80000,\n",
       "        90000, 100000, 110000, 120000, 130000, 140000, 150000, 160000,\n",
       "       170000, 180000, 190000, 200000, 210000, 220000, 230000, 240000,\n",
       "       250000, 260000, 270000, 280000, 290000, 300000, 310000, 320000,\n",
       "       330000, 340000, 350000, 360000, 370000, 380000, 390000, 393562])"
      ]
     },
     "execution_count": 255,
     "metadata": {},
     "output_type": "execute_result"
    }
   ],
   "source": [
    "np.asarray(end)"
   ]
  },
  {
   "cell_type": "code",
   "execution_count": 161,
   "metadata": {
    "collapsed": false
   },
   "outputs": [
    {
     "data": {
      "text/plain": [
       "40"
      ]
     },
     "execution_count": 161,
     "metadata": {},
     "output_type": "execute_result"
    }
   ],
   "source": [
    "len(range(0, 400000, 10000))"
   ]
  },
  {
   "cell_type": "code",
   "execution_count": 242,
   "metadata": {
    "collapsed": false
   },
   "outputs": [
    {
     "name": "stdout",
     "output_type": "stream",
     "text": [
      "recommend1.tsv\n",
      "recommend2.tsv\n",
      "recommend3.tsv\n",
      "recommend4.tsv\n",
      "recommend5.tsv\n",
      "recommend6.tsv\n",
      "recommend7.tsv\n",
      "recommend8.tsv\n",
      "recommend9.tsv\n",
      "recommend10.tsv\n",
      "recommend11.tsv\n",
      "recommend12.tsv\n",
      "recommend13.tsv\n",
      "recommend14.tsv\n",
      "recommend15.tsv\n",
      "recommend16.tsv\n",
      "recommend17.tsv\n",
      "recommend18.tsv\n",
      "recommend19.tsv\n",
      "recommend20.tsv\n",
      "recommend21.tsv\n",
      "recommend22.tsv\n",
      "recommend23.tsv\n",
      "recommend24.tsv\n",
      "recommend25.tsv\n",
      "recommend26.tsv\n",
      "recommend27.tsv\n",
      "recommend28.tsv\n",
      "recommend29.tsv\n",
      "recommend30.tsv\n",
      "recommend31.tsv\n",
      "recommend32.tsv\n",
      "recommend33.tsv\n",
      "recommend34.tsv\n",
      "recommend35.tsv\n",
      "recommend36.tsv\n",
      "recommend37.tsv\n",
      "recommend38.tsv\n",
      "recommend39.tsv\n",
      "recommend40.tsv\n"
     ]
    }
   ],
   "source": [
    "count=0\n",
    "for i, j in zip(start, end):\n",
    "    count = count+1\n",
    "    print('recommend'+str(count)+'.tsv')"
   ]
  },
  {
   "cell_type": "code",
   "execution_count": 240,
   "metadata": {
    "collapsed": false
   },
   "outputs": [
    {
     "data": {
      "text/plain": [
       "40"
      ]
     },
     "execution_count": 240,
     "metadata": {},
     "output_type": "execute_result"
    }
   ],
   "source": [
    "count"
   ]
  },
  {
   "cell_type": "code",
   "execution_count": 234,
   "metadata": {
    "collapsed": false
   },
   "outputs": [
    {
     "data": {
      "text/plain": [
       "393561"
      ]
     },
     "execution_count": 234,
     "metadata": {},
     "output_type": "execute_result"
    }
   ],
   "source": [
    "sum(a)"
   ]
  },
  {
   "cell_type": "code",
   "execution_count": 190,
   "metadata": {
    "collapsed": false
   },
   "outputs": [
    {
     "data": {
      "text/plain": [
       "393561"
      ]
     },
     "execution_count": 190,
     "metadata": {},
     "output_type": "execute_result"
    }
   ],
   "source": [
    "len(unique_asins)"
   ]
  },
  {
   "cell_type": "code",
   "execution_count": null,
   "metadata": {
    "collapsed": true
   },
   "outputs": [],
   "source": [
    "len(unique_asins[])"
   ]
  }
 ],
 "metadata": {
  "kernelspec": {
   "display_name": "Python 2",
   "language": "python",
   "name": "python2"
  },
  "language_info": {
   "codemirror_mode": {
    "name": "ipython",
    "version": 2
   },
   "file_extension": ".py",
   "mimetype": "text/x-python",
   "name": "python",
   "nbconvert_exporter": "python",
   "pygments_lexer": "ipython2",
   "version": "2.7.11"
  }
 },
 "nbformat": 4,
 "nbformat_minor": 0
}
